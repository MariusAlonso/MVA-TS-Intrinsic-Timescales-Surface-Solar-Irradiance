{
 "cells": [
  {
   "cell_type": "code",
   "execution_count": null,
   "metadata": {},
   "outputs": [],
   "source": [
    "import xarray as xr\n",
    "import numpy as np\n",
    "import matplotlib.pyplot as plt\n",
    "import emd\n",
    "from scipy import signal\n",
    "from itertools import cycle\n",
    "import pandas as pd\n",
    "from statsmodels.stats.weightstats import DescrStatsW\n"
   ]
  },
  {
   "cell_type": "markdown",
   "metadata": {},
   "source": [
    "# Load data"
   ]
  },
  {
   "cell_type": "markdown",
   "metadata": {},
   "source": [
    "## SSI dataset"
   ]
  },
  {
   "cell_type": "code",
   "execution_count": null,
   "metadata": {},
   "outputs": [],
   "source": [
    "paths = [\"BSRN-PAY.nc\", \"BSRN-BAR.nc\", \"BSRN-BOU.nc\", \"BSRN-TAT.nc\", \"BSRN-CAR.nc\"]\n",
    "times_begin = [\n",
    "    np.datetime64(\"1998-01-01\"),\n",
    "    np.datetime64(\"2003-01-01\"),\n",
    "    np.datetime64(\"1999-01-01\"),\n",
    "    np.datetime64(\"1998-01-01\"),\n",
    "    np.datetime64(\"1998-01-01\")\n",
    "]\n",
    "times_end = [\n",
    "    np.datetime64(\"2011-01-01\"),\n",
    "    np.datetime64(\"2017-01-01\"),\n",
    "    np.datetime64(\"2012-01-02\"),\n",
    "    np.datetime64(\"2023-01-01\"),\n",
    "    np.datetime64(\"2010-01-01\")\n",
    "]"
   ]
  },
  {
   "cell_type": "code",
   "execution_count": null,
   "metadata": {},
   "outputs": [],
   "source": [
    "# Load the data\n",
    "i_path = 0\n",
    "ds = xr.open_dataset(paths[i_path])\n",
    "ds = ds.sel(time=slice(times_begin[i_path], times_end[i_path]))"
   ]
  },
  {
   "cell_type": "markdown",
   "metadata": {},
   "source": [
    "## River discharge dataset"
   ]
  },
  {
   "cell_type": "code",
   "execution_count": null,
   "metadata": {},
   "outputs": [],
   "source": [
    "# Read the text file into a DataFrame\n",
    "file_path = 'data/TS_data.txt'\n",
    "delimiter = ';--:--;'\n",
    "df = pd.read_csv(file_path, delimiter=delimiter)\n",
    "df.columns = ['time', 'value']\n"
   ]
  },
  {
   "cell_type": "markdown",
   "metadata": {},
   "source": [
    "# Plot data"
   ]
  },
  {
   "cell_type": "code",
   "execution_count": null,
   "metadata": {},
   "outputs": [],
   "source": [
    "PLOTTED_PERIODS = [2, 4, 8, 16, 32, 64, 128, 256, 512]"
   ]
  },
  {
   "cell_type": "markdown",
   "metadata": {},
   "source": [
    "## SSI data"
   ]
  },
  {
   "cell_type": "code",
   "execution_count": null,
   "metadata": {},
   "outputs": [],
   "source": [
    "# Plot the data\n",
    "fig, ax = plt.subplots()\n",
    "# Change figure size\n",
    "fig.set_size_inches(20, 5)\n",
    "ds[\"GHI\"].plot(ax=ax)\n",
    "ax.set_xlabel(\"Time\")\n",
    "ax.set_ylabel(\"GHI [W/m^2]\")\n",
    "ax.set_title(\"BSRN data from \" + paths[i_path])\n",
    "plt.show()\n",
    "\n",
    "# Compute the longest consecutive missing data\n",
    "missing_data = ds[\"GHI\"].isnull()\n",
    "missing_data = missing_data.astype(int).diff(dim=\"time\")\n",
    "# Calculate length of consecutive missing data\n",
    "missing_data_start = missing_data.where(missing_data == 1, drop=True)\n",
    "missing_data_end = missing_data.where(missing_data == -1, drop=True)\n",
    "# Print the start and end first timesteps\n",
    "print(\"Start: \" + str(missing_data_start[\"time\"].values[0]))\n",
    "print(\"End: \" + str(missing_data_end[\"time\"].values[0]))\n",
    "# Print the start and end last timesteps\n",
    "print(\"Start: \" + str(missing_data_start[\"time\"].values[-1]))\n",
    "print(\"End: \" + str(missing_data_end[\"time\"].values[-1]))\n",
    "missing_data = missing_data_end[\"time\"].values - missing_data_start[\"time\"].values\n",
    "# Calculate the longest consecutive missing data\n",
    "missing_data_hours = missing_data.max().astype(\"timedelta64[h]\").astype(int)\n",
    "missing_data_days = missing_data.max().astype(\"timedelta64[D]\").astype(int)\n",
    "\n",
    "index_longest = missing_data.argmax()\n",
    "\n",
    "# Print the longest consecutive missing data\n",
    "print(\"Longest consecutive missing data: \" + str(missing_data_hours) + \" hours\")\n",
    "print(\"Longest consecutive missing data: \" + str(missing_data_days) + \" days\")\n",
    "print(\"Start: \" + str(missing_data_start[\"time\"].values[index_longest]))\n",
    "print(\"End: \" + str(missing_data_end[\"time\"].values[index_longest]))\n"
   ]
  },
  {
   "cell_type": "markdown",
   "metadata": {},
   "source": [
    "## River data"
   ]
  },
  {
   "cell_type": "code",
   "execution_count": null,
   "metadata": {},
   "outputs": [],
   "source": [
    "df[4000:-4000].plot(x='time', y='value', figsize=(20, 5), legend=False, ylabel='log(debit) (m3/s)')"
   ]
  },
  {
   "cell_type": "code",
   "execution_count": null,
   "metadata": {},
   "outputs": [],
   "source": [
    "# Create a new column with the month\n",
    "df['month'] = pd.DatetimeIndex(df['time']).month\n",
    "\n",
    "# Compute the average value for each month\n",
    "monthly_avg = df.groupby('month')['value'].mean()\n",
    "\n",
    "# Plot the monthly average values\n",
    "monthly_avg.plot(kind='bar', figsize=(10, 5), xlabel='Month', ylabel='Average Value')\n"
   ]
  },
  {
   "cell_type": "markdown",
   "metadata": {},
   "source": [
    "# Process data"
   ]
  },
  {
   "cell_type": "markdown",
   "metadata": {},
   "source": [
    "## SSI data"
   ]
  },
  {
   "cell_type": "code",
   "execution_count": null,
   "metadata": {},
   "outputs": [],
   "source": [
    "# Calculate the dataframe resampled\n",
    "ds_resampled = ds[\"GHI\"].resample(time=\"24H\").reduce(\n",
    "    lambda x, axis: np.nanmean(x) if np.isnan(x).sum() < 0.2 * len(x) else np.nan\n",
    ")\n",
    "# Interpolate the missing values\n",
    "ds_resampled = ds_resampled.interpolate_na(dim=\"time\", method=\"linear\")\n",
    "\n",
    "# # Take the log of the data \n",
    "# ds_resampled = np.log(ds_resampled)\n",
    "\n",
    "# Plot the data\n",
    "fig, ax = plt.subplots()\n",
    "fig.set_size_inches(20, 5)\n",
    "ds_resampled.plot(ax=ax, marker=\"o\", linestyle=\"None\")\n",
    "ax.set_xlabel(\"Time\")\n",
    "ax.set_ylabel(\"GHI [W/m^2]\")\n",
    "# ax.set_title(\"BSRN data from \" + paths[i_path])\n",
    "ax.set_title(\"\")\n",
    "plt.show()"
   ]
  },
  {
   "cell_type": "markdown",
   "metadata": {},
   "source": [
    "## River data"
   ]
  },
  {
   "cell_type": "markdown",
   "metadata": {},
   "source": [
    "# Calculation"
   ]
  },
  {
   "cell_type": "markdown",
   "metadata": {},
   "source": [
    "## SSI data"
   ]
  },
  {
   "cell_type": "code",
   "execution_count": null,
   "metadata": {},
   "outputs": [],
   "source": [
    "# Përform data analysis diagnostics\n",
    "df_resampled = ds_resampled.to_dataframe()[[\"GHI\"]]\n",
    "\n",
    "# 1. FFT\n",
    "# Calculate the FFT\n",
    "fft = np.fft.fft(df_resampled[\"GHI\"])\n",
    "fft = fft[1 : len(fft) // 2]\n",
    "# Calculate the power spectrum\n",
    "power_spectrum = np.abs(fft) ** 2\n",
    "# Calculate the frequencies\n",
    "sample_freq = np.fft.fftfreq(len(df_resampled[\"GHI\"]), d=1)\n",
    "sample_freq = sample_freq[1 : len(sample_freq) // 2]\n",
    "# Plot the power spectrum as a function of the period\n",
    "fig, ax = plt.subplots()\n",
    "fig.set_size_inches(20, 5)\n",
    "ax.plot(1 / sample_freq, power_spectrum)\n",
    "# Plot the highest peak in the power spectrum as a vertical line\n",
    "max_period = 1 / sample_freq[np.argmax(power_spectrum)]\n",
    "ax.axvline(max_period, color=\"red\")\n",
    "# Add text to this line\n",
    "ax.text(\n",
    "    max_period,\n",
    "    0.5 * np.max(power_spectrum),\n",
    "    \"Period = \" + str(np.round(max_period, 2))\n",
    ")\n",
    "ax.set_xlabel(\"Period [days]\")\n",
    "ax.set_ylabel(\"Power\")\n",
    "# ax.set_yscale(\"log\")\n",
    "ax.set_xscale(\"log\")\n",
    "ax.set_xticks(PLOTTED_PERIODS, PLOTTED_PERIODS)\n",
    "ax.set_xlim(2, 1000)\n",
    "plt.show()\n"
   ]
  },
  {
   "cell_type": "code",
   "execution_count": null,
   "metadata": {},
   "outputs": [],
   "source": [
    "# Extract trend (mean) and seasonality (periodic component)\n",
    "def generate_trend_atoms(k, length):\n",
    "    \"\"\"Generate trend atoms of given length.\"\"\"\n",
    "    atoms = np.zeros((k, length))\n",
    "    for i in range(k):\n",
    "        atoms[i, :] = np.linspace(0, 1, length) ** i\n",
    "    return atoms\n",
    "\n",
    "def generate_periodic_atoms(periods, length):\n",
    "    \"\"\"Generate periodic atoms of given periods and length.\"\"\"\n",
    "    atoms = np.zeros((2 * len(periods), length))\n",
    "    for i, period in enumerate(periods):\n",
    "        atoms[i, :] = np.sin(np.arange(length) * 2 * np.pi / period)\n",
    "        atoms[i + len(periods), :] = np.cos(np.arange(length) * 2 * np.pi / period)\n",
    "    return atoms\n",
    "\n",
    "# extract trend (mean) and seasonality (periodic component) using least squares\n",
    "BICs = np.zeros((25, 25))\n",
    "for i in range(1, 26):\n",
    "    for j in range(1, 26):\n",
    "        nb_periods = i\n",
    "        periods = [max_period / p for p in np.arange(1, nb_periods + 1)]\n",
    "        periodic_atoms = generate_periodic_atoms(periods, len(df_resampled[\"GHI\"]))\n",
    "        nb_trend_atoms = j\n",
    "        trend_atoms = generate_trend_atoms(nb_trend_atoms, len(df_resampled[\"GHI\"]))\n",
    "        atoms = np.concatenate((periodic_atoms, trend_atoms), axis=0)\n",
    "\n",
    "        # Calculate the least squares solution\n",
    "        solution = np.linalg.lstsq(atoms.T, df_resampled[\"GHI\"], rcond=None)[0]\n",
    "\n",
    "        # Calculate the residuals\n",
    "        residuals = df_resampled[\"GHI\"] - np.dot(atoms.T, solution)\n",
    "\n",
    "        # Calculate the likelihood\n",
    "        likelihood = -0.5 * len(residuals) * np.log(np.sum(residuals**2 / len(residuals)))\n",
    "\n",
    "        # Calculate the number of parameters (k) in your model\n",
    "        k = len(solution)\n",
    "\n",
    "        # Calculate BIC\n",
    "        n = len(df_resampled[\"GHI\"])\n",
    "        bic = -2 * likelihood + k * np.log(n)\n",
    "        BICs[i - 1, j - 1] = bic\n",
    "\n",
    "# Plot the BICs\n",
    "plt.imshow(BICs, cmap=\"hot_r\")\n",
    "plt.colorbar()\n",
    "plt.xlabel(\"Number of trend atoms\")\n",
    "plt.ylabel(\"Number of periodic atoms\")\n",
    "plt.xticks(np.arange(0, 25, 5), np.arange(1, 26, 5))\n",
    "plt.yticks(np.arange(0, 25, 5), np.arange(1, 26, 5))\n",
    "plt.title(\"BICs\")\n",
    "plt.show()\n",
    "\n",
    "argmin_BICs = np.argmin(BICs)\n",
    "nb_periods, nb_trend_atoms = np.unravel_index(argmin_BICs, BICs.shape)\n",
    "nb_periods += 1\n",
    "nb_trend_atoms += 1\n",
    "        \n",
    "print(\"Preferred number of trend atoms: \" + str(nb_trend_atoms))\n",
    "print(\"Preferred number of periodic atoms: \" + str(nb_periods))"
   ]
  },
  {
   "cell_type": "code",
   "execution_count": null,
   "metadata": {},
   "outputs": [],
   "source": [
    "\n",
    "periods = [max_period / p for p in np.arange(1, nb_periods + 1)]\n",
    "periodic_atoms = generate_periodic_atoms(periods, len(df_resampled[\"GHI\"]))\n",
    "trend_atoms = generate_trend_atoms(nb_trend_atoms, len(df_resampled[\"GHI\"]))\n",
    "atoms = np.concatenate((periodic_atoms, trend_atoms), axis=0)\n",
    "\n",
    "# Calculate the least squares solution\n",
    "solution = np.linalg.lstsq(atoms.T, df_resampled[\"GHI\"], rcond=None)[0]\n",
    "\n",
    "# Plot the trend and periodic components\n",
    "fig, ax = plt.subplots()\n",
    "fig.set_size_inches(20, 5)\n",
    "ax.scatter(df_resampled.index, df_resampled[\"GHI\"], label=\"GHI\", s=4)\n",
    "ax.plot(df_resampled.index, np.dot(atoms.T, solution), label=\"Trend + periodic\", color=\"red\")\n",
    "ax.set_xlabel(\"Time\")\n",
    "ax.set_ylabel(\"GHI [W/m^2]\")\n",
    "ax.legend()\n",
    "plt.show()\n",
    "\n",
    "# Plot the trend\n",
    "fig, ax = plt.subplots()\n",
    "fig.set_size_inches(20, 5)\n",
    "ax.plot(df_resampled.index, np.dot(trend_atoms.T, solution[nb_periods * 2:]), label=\"Trend\", color=\"red\")\n",
    "ax.set_xlabel(\"Time\")\n",
    "ax.set_ylabel(\"GHI [W/m^2]\")\n",
    "ax.legend()\n",
    "plt.show()\n",
    "\n",
    "# Plot the residuals\n",
    "plt.figure(figsize=(20, 5))\n",
    "plt.scatter(df_resampled.index, df_resampled[\"GHI\"] - np.dot(atoms.T, solution), c=np.dot(atoms.T, solution), s=4)\n",
    "plt.hlines(0, df_resampled.index[0], df_resampled.index[-1], color=\"black\")\n",
    "plt.colorbar(label=\"Trend + Periodic component\")\n",
    "plt.xlabel(\"Time\")\n",
    "plt.ylabel(\"GHI [W/m^2]\")\n",
    "plt.show()"
   ]
  },
  {
   "cell_type": "code",
   "execution_count": null,
   "metadata": {},
   "outputs": [],
   "source": [
    "# Calculate the EMD\n",
    "imf = emd.sift.ensemble_sift(ds_resampled.values, max_imfs=7, nensembles=1024, nprocesses=32, ensemble_noise=1)\n",
    "emd.plotting.plot_imfs(imf)\n",
    "\n",
    "IP, IF, IA = emd.spectra.frequency_transform(imf, 1, 'hilbert')"
   ]
  },
  {
   "cell_type": "code",
   "execution_count": null,
   "metadata": {},
   "outputs": [],
   "source": [
    "# Plot IA k+1 and IF k+1\n",
    "k = 5\n",
    "fig, ax = plt.subplots()\n",
    "fig.set_size_inches(9, 4)\n",
    "ax.plot(IA[:, k], label=\"IA 6\")\n",
    "ax.set_xlabel(\"Time [days]\")\n",
    "ax.set_ylabel(\"Instantaneous Amplitude [W/m^2]\")\n",
    "ax.legend()\n",
    "plt.show()\n",
    "\n",
    "fig, ax = plt.subplots()\n",
    "fig.set_size_inches(9, 4)\n",
    "ax.plot(1 / IF[:, k], label=\"IF 6\")\n",
    "ax.set_xlabel(\"Time [days]\")\n",
    "ax.set_ylabel(\"Timescale [days]\")\n",
    "ax.set_yscale(\"log\")\n",
    "ax.set_yticks(PLOTTED_PERIODS, PLOTTED_PERIODS)\n",
    "ax.set_ylim(2, 1000)\n",
    "ax.legend()\n",
    "plt.show()\n"
   ]
  },
  {
   "cell_type": "code",
   "execution_count": null,
   "metadata": {},
   "outputs": [],
   "source": [
    "# Compute PSDs of the IMFs\n",
    "f, Pxx = signal.welch(imf.T, fs=1, nperseg=100000)\n",
    "\n",
    "COLORS = cycle([\"b\", \"g\", \"r\", \"c\", \"m\", \"y\", \"k\"])\n",
    "\n",
    "# Plot the PSDs (x axis is period in days)\n",
    "fig, ax = plt.subplots()\n",
    "for i in range(imf.shape[1]):\n",
    "    color = next(COLORS)\n",
    "    ax.plot(1/f, Pxx[i], label=\"IMF %d\" % (i +1), color=color)\n",
    "    # Plot the median of the PSD for each IMF (vline)\n",
    "    cumsum_T = np.cumsum(Pxx[i, ::-1])\n",
    "    cumsum_T /= cumsum_T[-1]\n",
    "    T = 1/f[::-1]\n",
    "    T = T[cumsum_T > 0.5][0]\n",
    "    ax.vlines(T, 1e-6, 1e6, color=color, linestyle=\"--\")\n",
    "    # add text\n",
    "    ax.text(T, 3e6, \"%.1f\" % T, color=color)\n",
    "ax.legend()\n",
    "ax.set_xlabel(\"Period [days]\")\n",
    "ax.set_ylabel(\"PSD\")\n",
    "ax.set_title(\"BSRN data from \" + paths[i_path])\n",
    "ax.set_xscale(\"log\")\n",
    "ax.set_yscale(\"log\")\n",
    "# limit the y axis\n",
    "ax.set_ylim(1e-6, 1e8)\n",
    "ax.set_xlim(2, 1000)\n",
    "plt.show()"
   ]
  },
  {
   "cell_type": "code",
   "execution_count": null,
   "metadata": {},
   "outputs": [],
   "source": [
    "plt.figure(figsize=(15, 10))\n",
    "# Set background color\n",
    "plt.rcParams['axes.facecolor'] = \"k\"\n",
    "for i in range(imf.shape[1]):\n",
    "    plt.scatter(np.arange(len(imf)), IF[:, i], c=np.log(IA[:, i]), cmap=\"jet\", s=0.001*IA[:, i]**2, label=\"IMF %d\" % (i +1))\n",
    "plt.xlabel(\"Time [days]\")\n",
    "plt.ylabel(\"Timescale [days]\")\n",
    "plt.title(\"BSRN data from \" + paths[i_path])\n",
    "plt.yscale(\"log\")\n",
    "plt.yticks([1/x for x in PLOTTED_PERIODS], PLOTTED_PERIODS)\n",
    "plt.ylim(1/1000, 1/2)\n",
    "plt.show()\n",
    "\n",
    "plt.rcParams['axes.facecolor'] = \"w\"\n"
   ]
  },
  {
   "cell_type": "code",
   "execution_count": null,
   "metadata": {},
   "outputs": [],
   "source": [
    "freq_edges, freq_centres = emd.spectra.define_hist_bins(1/1000, 1/2, 200, 'log')\n",
    "\n",
    "f, hht = emd.spectra.hilberthuang(IF, IA, freq_edges, mode='amplitude', sum_time=True, sum_imfs=False)\n",
    "f, hht_0a = emd.spectra.hilberthuang(IF, np.ones_like(IA), freq_edges, mode='amplitude', sum_time=True, sum_imfs=False)\n",
    "\n",
    "# Plot the HHT\n",
    "for i in range(hht.shape[1]):\n",
    "    plt.bar(1 / freq_centres, hht[:, i], label=\"IMF %d\" % (i +1), width=1 / freq_edges[1:] - 1 / freq_edges[:-1])\n",
    "plt.xlabel(\"Period [days]\")\n",
    "plt.ylabel(\"Amplitude Spectral Density\")\n",
    "# plt.title(\"BSRN data from \" + paths[i_path])\n",
    "plt.xscale(\"log\")\n",
    "plt.xticks(PLOTTED_PERIODS, PLOTTED_PERIODS)\n",
    "plt.yticks([])\n",
    "plt.legend()\n",
    "plt.show()\n",
    "\n",
    "\n",
    "# Plot the HHT\n",
    "for i in range(hht.shape[1]):\n",
    "    plt.bar(1 / freq_centres, hht_0a[:, i], label=\"IMF %d\" % (i +1), width=1 / freq_edges[1:] - 1 / freq_edges[:-1])\n",
    "plt.xlabel(\"Period [days]\")\n",
    "plt.ylabel(\"Spectral Density\")\n",
    "# plt.title(\"BSRN data from \" + paths[i_path])\n",
    "plt.xscale(\"log\")\n",
    "plt.xticks(PLOTTED_PERIODS, PLOTTED_PERIODS)\n",
    "plt.yticks([])\n",
    "plt.legend()\n",
    "plt.show()"
   ]
  },
  {
   "cell_type": "code",
   "execution_count": null,
   "metadata": {},
   "outputs": [],
   "source": [
    "# Compute Kendall's taucorrelation matrix between IA and IMFs\n",
    "from scipy.stats import kendalltau\n",
    "\n",
    "taus = np.zeros((imf.shape[1], imf.shape[1]))\n",
    "ps = np.zeros((imf.shape[1], imf.shape[1]))\n",
    "for i in range(imf.shape[1]):\n",
    "    for j in range(imf.shape[1]):\n",
    "        tau, p = kendalltau(IA[:, i], imf[:, j])\n",
    "        taus[i, j] = tau\n",
    "        ps[i, j] = p\n",
    "\n",
    "# Plot the correlation matrix as a heatmap (p values are written in the cells)\n",
    "plt.imshow(taus, cmap=\"RdBu_r\", vmin=-0.5, vmax=0.5)\n",
    "for i in range(imf.shape[1]):\n",
    "    for j in range(imf.shape[1]):\n",
    "        plt.text(j, i, \"%.2f\" % ps[i, j], ha=\"center\", va=\"center\", color=\"#000000\" if ps[i, j] < 0.05 else \"#d4d4d4\")\n",
    "plt.xticks(np.arange(imf.shape[1]), [\"IMF %d\" % (i + 1) for i in range(imf.shape[1])])\n",
    "plt.yticks(np.arange(imf.shape[1]), [\"AM %d\" % (i + 1) for i in range(imf.shape[1])])\n",
    "plt.colorbar()\n",
    "plt.show()"
   ]
  },
  {
   "cell_type": "code",
   "execution_count": null,
   "metadata": {},
   "outputs": [],
   "source": [
    "def resample_float_rate_linear_interp(x, y, rate):\n",
    "    \"\"\"Resample a float rate time series using linear interpolation.\"\"\"\n",
    "    # Create a new time series with the desired rate\n",
    "    new_x = np.arange(x[0], x[-1], rate)\n",
    "    # Interpolate the original time series at the new time series\n",
    "    new_y = np.interp(new_x, x, y)\n",
    "    return new_x, new_y"
   ]
  },
  {
   "cell_type": "code",
   "execution_count": null,
   "metadata": {},
   "outputs": [],
   "source": [
    "from statsmodels.stats.weightstats import DescrStatsW\n",
    "\n",
    "resample_rates = np.arange(24, 48, 2)\n",
    "freq_edges, freq_centres = emd.spectra.define_hist_bins(1/1000, 1/2, 200, 'log')\n",
    "SWMFs = np.zeros((len(resample_rates), 7))\n",
    "SWUQs = np.zeros((len(resample_rates), 7))\n",
    "SWLQs = np.zeros((len(resample_rates), 7))\n",
    "for i_rr, rr in enumerate(resample_rates):\n",
    "    freq_ratio = 24 / rr\n",
    "    # ds_resampled_2 = ds[\"GHI\"].resample(time=\"{}H\".format(rr)).reduce(\n",
    "    #     lambda x, axis: np.nanmean(x) if np.isnan(x).sum() < 0.2 * len(x) else np.nan\n",
    "    # )\n",
    "    # ds_resampled_2 = ds_resampled.interpolate_na(dim=\"time\", method=\"linear\").values\n",
    "    ds_resampled_2 = resample_float_rate_linear_interp(\n",
    "        np.arange(len(ds_resampled)),\n",
    "        ds_resampled.values,\n",
    "        rr / 24\n",
    "    )[1]\n",
    "    print(len(ds_resampled_2))\n",
    "    imf = emd.sift.ensemble_sift(ds_resampled_2, max_imfs=7, nensembles=1024, nprocesses=32, ensemble_noise=4)\n",
    "    IP, IF, IA = emd.spectra.frequency_transform(imf, 1, 'hilbert')\n",
    "    f, hht = emd.spectra.hilberthuang(IF, IA, freq_edges, mode='amplitude', sum_time=True, sum_imfs=False)\n",
    "    ws = [DescrStatsW(freq_ratio * f, weights=hht[:, i]) for i in range(hht.shape[1])]\n",
    "    SWMFs[i_rr, :] = np.array([w.mean for w in ws])\n",
    "    SWUQs[i_rr, :] = np.array([w.quantile([0.75], return_pandas=False)[0] for w in ws])\n",
    "    SWLQs[i_rr, :] = np.array([w.quantile([0.25], return_pandas=False)[0] for w in ws])"
   ]
  },
  {
   "cell_type": "code",
   "execution_count": null,
   "metadata": {},
   "outputs": [],
   "source": [
    "\n",
    "# Plot the SWMFs\n",
    "plt.figure(figsize=(5, 4))\n",
    "for i in range(imf.shape[1]):\n",
    "    plt.plot(resample_rates, SWMFs[:, i], label=\"IMF %d\" % (i +1))\n",
    "    # Plot upper and lower quartiles\n",
    "    plt.fill_between(resample_rates, SWUQs[:, i], SWLQs[:, i], alpha=0.2)\n",
    "    \n",
    "# Plot the behaviour of the SWMF for a pure noise signal\n",
    "plt.xlabel(\"Resampling rate [hours]\")\n",
    "plt.ylabel(\"SWMF\")\n",
    "plt.yscale(\"log\")\n",
    "plt.yticks([1/x for x in PLOTTED_PERIODS], PLOTTED_PERIODS)\n",
    "plt.ylim(1/1000, 1/2)\n",
    "plt.legend()\n",
    "plt.show()\n",
    "\n",
    "# Plot the SWMFs\n",
    "plt.figure(figsize=(5, 4))\n",
    "for i in range(imf.shape[1]):\n",
    "    plt.plot(resample_rates, SWMFs[:, i] / SWMFs[0, i], label=\"IMF %d\" % (i +1))\n",
    "# Plot the behaviour of the SWMF for a pure noise signal\n",
    "plt.plot(resample_rates, 24 / resample_rates, color=\"black\", linestyle=\"--\", label=\"Pure noise\")\n",
    "plt.xlabel(\"Resampling rate [hours]\")\n",
    "plt.ylabel(\"SWMF drift\")\n",
    "plt.legend()\n",
    "plt.show()"
   ]
  }
 ],
 "metadata": {
  "kernelspec": {
   "display_name": "TS",
   "language": "python",
   "name": "python3"
  },
  "language_info": {
   "name": "python",
   "version": "3.11.5"
  }
 },
 "nbformat": 4,
 "nbformat_minor": 2
}
